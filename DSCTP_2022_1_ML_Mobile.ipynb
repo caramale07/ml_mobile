{
 "cells": [
  {
   "cell_type": "markdown",
   "id": "dc4baa77",
   "metadata": {},
   "source": [
    "# 1. Load dataset"
   ]
  },
  {
   "cell_type": "markdown",
   "id": "9c4c5df2",
   "metadata": {},
   "source": [
    "#### In this assignment, you are expected to practice building pipeline, doing k-fold cross validation and performing hyperparameter tuning.\n",
    "#### You will be working with mobile phone dataset (mobile_train.csv)."
   ]
  },
  {
   "cell_type": "code",
   "execution_count": 26,
   "id": "c5dfa930",
   "metadata": {},
   "outputs": [],
   "source": [
    "import pandas as pd \n",
    "import numpy as np\n",
    "from sklearn.model_selection import train_test_split\n",
    "\n",
    "\n",
    "df=pd.read_csv('mobile_train.csv')\n",
    "\n",
    "X=df[['battery_power', 'ram', 'wifi', 'price_range' ]]\n",
    "y=df['touch_screen']\n",
    "\n",
    "X_train, X_test, y_train, y_test = train_test_split(X, y, test_size=0.2)"
   ]
  },
  {
   "cell_type": "markdown",
   "id": "aa3a97c8",
   "metadata": {},
   "source": [
    "# 2. Tuning"
   ]
  },
  {
   "cell_type": "markdown",
   "id": "3e8df7f9",
   "metadata": {},
   "source": [
    "#### Build a random forest classifier model and perform hyperparameter tuning using grid search. Also apply 5-fold cross validation while doing searching. Use following values for the search:\n",
    "- n_estimators - 100, 200, 300\n",
    "- max_depth - 3, 5\n",
    "- criterion - gini, entropy"
   ]
  },
  {
   "cell_type": "code",
   "execution_count": 27,
   "id": "1703e3d4",
   "metadata": {},
   "outputs": [
    {
     "name": "stdout",
     "output_type": "stream",
     "text": [
      "Accuracy: 0.4975\n"
     ]
    }
   ],
   "source": [
    "from sklearn.ensemble import RandomForestClassifier\n",
    "from sklearn import metrics\n",
    "\n",
    "clf=RandomForestClassifier(max_depth=3, n_estimators=100, criterion='gini')\n",
    "\n",
    "clf.fit(X_train, y_train)\n",
    "\n",
    "y_pred=clf.predict(X_test)\n",
    "print(\"Accuracy:\",metrics.accuracy_score(y_test, y_pred))"
   ]
  },
  {
   "cell_type": "markdown",
   "id": "44e314c2",
   "metadata": {},
   "source": [
    "#### Get the best score and optimal values for hyperparameters."
   ]
  },
  {
   "cell_type": "code",
   "execution_count": 28,
   "id": "491b08a1",
   "metadata": {},
   "outputs": [],
   "source": [
    "# in order to increase accuracy I am going to add more features\n",
    "X=df[['battery_power', 'ram', 'wifi', 'price_range','clock_speed', 'fc', 'n_cores']]\n",
    "y=df['touch_screen']\n",
    "\n",
    "X_train, X_test, y_train, y_test = train_test_split(X, y, test_size=0.2)"
   ]
  },
  {
   "cell_type": "markdown",
   "id": "ec33b65d",
   "metadata": {},
   "source": [
    "#### Inspect the values and check if you can do better."
   ]
  },
  {
   "cell_type": "code",
   "execution_count": 35,
   "id": "ed7f74e2",
   "metadata": {},
   "outputs": [
    {
     "name": "stdout",
     "output_type": "stream",
     "text": [
      "Accuracy: 0.505\n"
     ]
    }
   ],
   "source": [
    "from sklearn.ensemble import RandomForestClassifier\n",
    "from sklearn import metrics\n",
    "\n",
    "clf=RandomForestClassifier(max_depth=5, n_estimators=300, criterion='gini')\n",
    "\n",
    "clf.fit(X_train, y_train)\n",
    "\n",
    "y_pred=clf.predict(X_test)\n",
    "print(\"Accuracy:\",metrics.accuracy_score(y_test, y_pred))"
   ]
  },
  {
   "cell_type": "markdown",
   "id": "bc3740c7",
   "metadata": {},
   "source": [
    "#### Perform hyperparameter tuning using random search. Increase number of iterations if needed. Do not forget about 5-fold validation."
   ]
  },
  {
   "cell_type": "code",
   "execution_count": null,
   "id": "b22fd3d8",
   "metadata": {},
   "outputs": [],
   "source": []
  },
  {
   "cell_type": "markdown",
   "id": "d97565fc",
   "metadata": {},
   "source": [
    "#### Create a pipeline and add standard scaling and dimensionality reduction. You can use StandardScaler and PCA. Perform tuning by random search. Now you have to provide values for hyperparameters of different components of your pipeline. Find out how you can achieve that. For PCA, one hyperparameter to tune would be number of components. Try to isolate and check the effect of scaling and dimensionality reduction on the model."
   ]
  },
  {
   "cell_type": "code",
   "execution_count": null,
   "id": "626e4fdf",
   "metadata": {},
   "outputs": [],
   "source": []
  }
 ],
 "metadata": {
  "kernelspec": {
   "display_name": "Python 3 (ipykernel)",
   "language": "python",
   "name": "python3"
  },
  "language_info": {
   "codemirror_mode": {
    "name": "ipython",
    "version": 3
   },
   "file_extension": ".py",
   "mimetype": "text/x-python",
   "name": "python",
   "nbconvert_exporter": "python",
   "pygments_lexer": "ipython3",
   "version": "3.10.2"
  }
 },
 "nbformat": 4,
 "nbformat_minor": 5
}
