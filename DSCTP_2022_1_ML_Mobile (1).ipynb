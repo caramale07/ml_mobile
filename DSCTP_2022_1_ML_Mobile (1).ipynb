{
 "cells": [
  {
   "cell_type": "markdown",
   "id": "dc4baa77",
   "metadata": {},
   "source": [
    "# 1. Load dataset"
   ]
  },
  {
   "cell_type": "markdown",
   "id": "9c4c5df2",
   "metadata": {},
   "source": [
    "#### In this assignment, you are expected to practice building pipeline, doing k-fold cross validation and performing hyperparameter tuning.\n",
    "#### You will be working with mobile phone dataset (mobile_train.csv)."
   ]
  },
  {
   "cell_type": "code",
   "execution_count": 5,
   "id": "c5dfa930",
   "metadata": {},
   "outputs": [],
   "source": [
    "import pandas as pd\n",
    "import numpy as np\n",
    "from sklearn.model_selection import train_test_split\n",
    "\n",
    "df=pd.read_csv('mobile_train.csv')"
   ]
  },
  {
   "cell_type": "markdown",
   "id": "aa3a97c8",
   "metadata": {},
   "source": [
    "# 2. Tuning"
   ]
  },
  {
   "cell_type": "markdown",
   "id": "3e8df7f9",
   "metadata": {},
   "source": [
    "#### Build a random forest classifier model and perform hyperparameter tuning using grid search. Also apply 5-fold cross validation while doing searching. Use following values for the search:\n",
    "- n_estimators - 100, 200, 300\n",
    "- max_depth - 3, 5\n",
    "- criterion - gini, entropy"
   ]
  },
  {
   "cell_type": "code",
   "execution_count": 6,
   "id": "1703e3d4",
   "metadata": {},
   "outputs": [
    {
     "name": "stdout",
     "output_type": "stream",
     "text": [
      "{'100 3 gini': 0.8094999999999999, '100 3 entropy': 0.79, '100 5 gini': 0.858, '100 5 entropy': 0.8475000000000001, '200 3 gini': 0.8135, '200 3 entropy': 0.7945, '200 5 gini': 0.8585, '200 5 entropy': 0.8480000000000001, '300 3 gini': 0.8065000000000001, '300 3 entropy': 0.8025, '300 5 gini': 0.857, '300 5 entropy': 0.852}\n",
      "\n",
      "\n",
      "Best params:  200 5 gini\n"
     ]
    }
   ],
   "source": [
    "# manually searching using for loops\n",
    "\n",
    "from sklearn.model_selection import train_test_split\n",
    "from sklearn.ensemble import RandomForestClassifier\n",
    "from sklearn.model_selection import cross_val_score\n",
    "from sklearn import metrics\n",
    "\n",
    "X=df[['battery_power','int_memory','ram','n_cores','px_height','px_width','three_g','wifi']]  # Features\n",
    "y=df['price_range']  # Labels\n",
    "\n",
    "# Split dataset into training set and test set\n",
    "X_train, X_test, y_train, y_test = train_test_split(X, y, test_size=0.2)\n",
    "\n",
    "n_estimators=[100,200,300]\n",
    "max_depths=[3,5]\n",
    "criterions=['gini', 'entropy']\n",
    "\n",
    "avg_scores={}\n",
    "\n",
    "for n_estimator in n_estimators:\n",
    "    for max_depth in max_depths:\n",
    "        for criterion in criterions:\n",
    "            clf=RandomForestClassifier(n_estimators=n_estimator,max_depth=max_depth, criterion=criterion)\n",
    "            scores=cross_val_score(clf,X,y,cv=5)\n",
    "            avg_scores[str(n_estimator)+' '+str(max_depth)+' '+criterion] = np.average(scores)\n",
    "\n",
    "print(avg_scores)\n",
    "print('\\n\\nBest params: ', list(avg_scores.keys())[list(avg_scores.values()).index(max(avg_scores.values()))])"
   ]
  },
  {
   "cell_type": "code",
   "execution_count": 7,
   "id": "b46ea153",
   "metadata": {},
   "outputs": [
    {
     "data": {
      "text/html": [
       "<div>\n",
       "<style scoped>\n",
       "    .dataframe tbody tr th:only-of-type {\n",
       "        vertical-align: middle;\n",
       "    }\n",
       "\n",
       "    .dataframe tbody tr th {\n",
       "        vertical-align: top;\n",
       "    }\n",
       "\n",
       "    .dataframe thead th {\n",
       "        text-align: right;\n",
       "    }\n",
       "</style>\n",
       "<table border=\"1\" class=\"dataframe\">\n",
       "  <thead>\n",
       "    <tr style=\"text-align: right;\">\n",
       "      <th></th>\n",
       "      <th>mean_fit_time</th>\n",
       "      <th>std_fit_time</th>\n",
       "      <th>mean_score_time</th>\n",
       "      <th>std_score_time</th>\n",
       "      <th>param_criterion</th>\n",
       "      <th>param_max_depth</th>\n",
       "      <th>param_n_estimators</th>\n",
       "      <th>params</th>\n",
       "      <th>split0_test_score</th>\n",
       "      <th>split1_test_score</th>\n",
       "      <th>split2_test_score</th>\n",
       "      <th>split3_test_score</th>\n",
       "      <th>split4_test_score</th>\n",
       "      <th>mean_test_score</th>\n",
       "      <th>std_test_score</th>\n",
       "      <th>rank_test_score</th>\n",
       "    </tr>\n",
       "  </thead>\n",
       "  <tbody>\n",
       "    <tr>\n",
       "      <th>0</th>\n",
       "      <td>0.251056</td>\n",
       "      <td>0.030930</td>\n",
       "      <td>0.017590</td>\n",
       "      <td>0.003927</td>\n",
       "      <td>gini</td>\n",
       "      <td>3</td>\n",
       "      <td>100</td>\n",
       "      <td>{'criterion': 'gini', 'max_depth': 3, 'n_estim...</td>\n",
       "      <td>0.818750</td>\n",
       "      <td>0.784375</td>\n",
       "      <td>0.809375</td>\n",
       "      <td>0.809375</td>\n",
       "      <td>0.803125</td>\n",
       "      <td>0.805000</td>\n",
       "      <td>0.011456</td>\n",
       "      <td>7</td>\n",
       "    </tr>\n",
       "    <tr>\n",
       "      <th>1</th>\n",
       "      <td>0.372789</td>\n",
       "      <td>0.040900</td>\n",
       "      <td>0.030782</td>\n",
       "      <td>0.013548</td>\n",
       "      <td>gini</td>\n",
       "      <td>3</td>\n",
       "      <td>200</td>\n",
       "      <td>{'criterion': 'gini', 'max_depth': 3, 'n_estim...</td>\n",
       "      <td>0.825000</td>\n",
       "      <td>0.765625</td>\n",
       "      <td>0.803125</td>\n",
       "      <td>0.800000</td>\n",
       "      <td>0.790625</td>\n",
       "      <td>0.796875</td>\n",
       "      <td>0.019264</td>\n",
       "      <td>9</td>\n",
       "    </tr>\n",
       "    <tr>\n",
       "      <th>2</th>\n",
       "      <td>0.545288</td>\n",
       "      <td>0.078639</td>\n",
       "      <td>0.035581</td>\n",
       "      <td>0.003260</td>\n",
       "      <td>gini</td>\n",
       "      <td>3</td>\n",
       "      <td>300</td>\n",
       "      <td>{'criterion': 'gini', 'max_depth': 3, 'n_estim...</td>\n",
       "      <td>0.834375</td>\n",
       "      <td>0.775000</td>\n",
       "      <td>0.806250</td>\n",
       "      <td>0.787500</td>\n",
       "      <td>0.793750</td>\n",
       "      <td>0.799375</td>\n",
       "      <td>0.020194</td>\n",
       "      <td>8</td>\n",
       "    </tr>\n",
       "    <tr>\n",
       "      <th>3</th>\n",
       "      <td>0.220671</td>\n",
       "      <td>0.026620</td>\n",
       "      <td>0.015793</td>\n",
       "      <td>0.001599</td>\n",
       "      <td>gini</td>\n",
       "      <td>5</td>\n",
       "      <td>100</td>\n",
       "      <td>{'criterion': 'gini', 'max_depth': 5, 'n_estim...</td>\n",
       "      <td>0.856250</td>\n",
       "      <td>0.821875</td>\n",
       "      <td>0.846875</td>\n",
       "      <td>0.862500</td>\n",
       "      <td>0.862500</td>\n",
       "      <td>0.850000</td>\n",
       "      <td>0.015181</td>\n",
       "      <td>3</td>\n",
       "    </tr>\n",
       "    <tr>\n",
       "      <th>4</th>\n",
       "      <td>0.474927</td>\n",
       "      <td>0.077248</td>\n",
       "      <td>0.026385</td>\n",
       "      <td>0.002058</td>\n",
       "      <td>gini</td>\n",
       "      <td>5</td>\n",
       "      <td>200</td>\n",
       "      <td>{'criterion': 'gini', 'max_depth': 5, 'n_estim...</td>\n",
       "      <td>0.853125</td>\n",
       "      <td>0.843750</td>\n",
       "      <td>0.850000</td>\n",
       "      <td>0.887500</td>\n",
       "      <td>0.868750</td>\n",
       "      <td>0.860625</td>\n",
       "      <td>0.015762</td>\n",
       "      <td>1</td>\n",
       "    </tr>\n",
       "    <tr>\n",
       "      <th>5</th>\n",
       "      <td>0.556085</td>\n",
       "      <td>0.047403</td>\n",
       "      <td>0.036977</td>\n",
       "      <td>0.003577</td>\n",
       "      <td>gini</td>\n",
       "      <td>5</td>\n",
       "      <td>300</td>\n",
       "      <td>{'criterion': 'gini', 'max_depth': 5, 'n_estim...</td>\n",
       "      <td>0.865625</td>\n",
       "      <td>0.812500</td>\n",
       "      <td>0.850000</td>\n",
       "      <td>0.871875</td>\n",
       "      <td>0.859375</td>\n",
       "      <td>0.851875</td>\n",
       "      <td>0.020972</td>\n",
       "      <td>2</td>\n",
       "    </tr>\n",
       "    <tr>\n",
       "      <th>6</th>\n",
       "      <td>0.188890</td>\n",
       "      <td>0.011235</td>\n",
       "      <td>0.013190</td>\n",
       "      <td>0.001720</td>\n",
       "      <td>entropy</td>\n",
       "      <td>3</td>\n",
       "      <td>100</td>\n",
       "      <td>{'criterion': 'entropy', 'max_depth': 3, 'n_es...</td>\n",
       "      <td>0.790625</td>\n",
       "      <td>0.800000</td>\n",
       "      <td>0.721875</td>\n",
       "      <td>0.790625</td>\n",
       "      <td>0.750000</td>\n",
       "      <td>0.770625</td>\n",
       "      <td>0.029883</td>\n",
       "      <td>12</td>\n",
       "    </tr>\n",
       "    <tr>\n",
       "      <th>7</th>\n",
       "      <td>0.457939</td>\n",
       "      <td>0.063132</td>\n",
       "      <td>0.029579</td>\n",
       "      <td>0.010832</td>\n",
       "      <td>entropy</td>\n",
       "      <td>3</td>\n",
       "      <td>200</td>\n",
       "      <td>{'criterion': 'entropy', 'max_depth': 3, 'n_es...</td>\n",
       "      <td>0.818750</td>\n",
       "      <td>0.740625</td>\n",
       "      <td>0.787500</td>\n",
       "      <td>0.803125</td>\n",
       "      <td>0.803125</td>\n",
       "      <td>0.790625</td>\n",
       "      <td>0.026882</td>\n",
       "      <td>11</td>\n",
       "    </tr>\n",
       "    <tr>\n",
       "      <th>8</th>\n",
       "      <td>0.580465</td>\n",
       "      <td>0.043701</td>\n",
       "      <td>0.033383</td>\n",
       "      <td>0.002331</td>\n",
       "      <td>entropy</td>\n",
       "      <td>3</td>\n",
       "      <td>300</td>\n",
       "      <td>{'criterion': 'entropy', 'max_depth': 3, 'n_es...</td>\n",
       "      <td>0.812500</td>\n",
       "      <td>0.771875</td>\n",
       "      <td>0.800000</td>\n",
       "      <td>0.818750</td>\n",
       "      <td>0.765625</td>\n",
       "      <td>0.793750</td>\n",
       "      <td>0.021378</td>\n",
       "      <td>10</td>\n",
       "    </tr>\n",
       "    <tr>\n",
       "      <th>9</th>\n",
       "      <td>0.264049</td>\n",
       "      <td>0.032902</td>\n",
       "      <td>0.014192</td>\n",
       "      <td>0.002134</td>\n",
       "      <td>entropy</td>\n",
       "      <td>5</td>\n",
       "      <td>100</td>\n",
       "      <td>{'criterion': 'entropy', 'max_depth': 5, 'n_es...</td>\n",
       "      <td>0.837500</td>\n",
       "      <td>0.840625</td>\n",
       "      <td>0.837500</td>\n",
       "      <td>0.868750</td>\n",
       "      <td>0.859375</td>\n",
       "      <td>0.848750</td>\n",
       "      <td>0.012900</td>\n",
       "      <td>4</td>\n",
       "    </tr>\n",
       "    <tr>\n",
       "      <th>10</th>\n",
       "      <td>0.599456</td>\n",
       "      <td>0.091798</td>\n",
       "      <td>0.037579</td>\n",
       "      <td>0.016073</td>\n",
       "      <td>entropy</td>\n",
       "      <td>5</td>\n",
       "      <td>200</td>\n",
       "      <td>{'criterion': 'entropy', 'max_depth': 5, 'n_es...</td>\n",
       "      <td>0.853125</td>\n",
       "      <td>0.821875</td>\n",
       "      <td>0.834375</td>\n",
       "      <td>0.878125</td>\n",
       "      <td>0.853125</td>\n",
       "      <td>0.848125</td>\n",
       "      <td>0.019121</td>\n",
       "      <td>6</td>\n",
       "    </tr>\n",
       "    <tr>\n",
       "      <th>11</th>\n",
       "      <td>0.793345</td>\n",
       "      <td>0.054383</td>\n",
       "      <td>0.044974</td>\n",
       "      <td>0.006258</td>\n",
       "      <td>entropy</td>\n",
       "      <td>5</td>\n",
       "      <td>300</td>\n",
       "      <td>{'criterion': 'entropy', 'max_depth': 5, 'n_es...</td>\n",
       "      <td>0.856250</td>\n",
       "      <td>0.825000</td>\n",
       "      <td>0.825000</td>\n",
       "      <td>0.878125</td>\n",
       "      <td>0.859375</td>\n",
       "      <td>0.848750</td>\n",
       "      <td>0.020785</td>\n",
       "      <td>5</td>\n",
       "    </tr>\n",
       "  </tbody>\n",
       "</table>\n",
       "</div>"
      ],
      "text/plain": [
       "    mean_fit_time  std_fit_time  mean_score_time  std_score_time  \\\n",
       "0        0.251056      0.030930         0.017590        0.003927   \n",
       "1        0.372789      0.040900         0.030782        0.013548   \n",
       "2        0.545288      0.078639         0.035581        0.003260   \n",
       "3        0.220671      0.026620         0.015793        0.001599   \n",
       "4        0.474927      0.077248         0.026385        0.002058   \n",
       "5        0.556085      0.047403         0.036977        0.003577   \n",
       "6        0.188890      0.011235         0.013190        0.001720   \n",
       "7        0.457939      0.063132         0.029579        0.010832   \n",
       "8        0.580465      0.043701         0.033383        0.002331   \n",
       "9        0.264049      0.032902         0.014192        0.002134   \n",
       "10       0.599456      0.091798         0.037579        0.016073   \n",
       "11       0.793345      0.054383         0.044974        0.006258   \n",
       "\n",
       "   param_criterion param_max_depth param_n_estimators  \\\n",
       "0             gini               3                100   \n",
       "1             gini               3                200   \n",
       "2             gini               3                300   \n",
       "3             gini               5                100   \n",
       "4             gini               5                200   \n",
       "5             gini               5                300   \n",
       "6          entropy               3                100   \n",
       "7          entropy               3                200   \n",
       "8          entropy               3                300   \n",
       "9          entropy               5                100   \n",
       "10         entropy               5                200   \n",
       "11         entropy               5                300   \n",
       "\n",
       "                                               params  split0_test_score  \\\n",
       "0   {'criterion': 'gini', 'max_depth': 3, 'n_estim...           0.818750   \n",
       "1   {'criterion': 'gini', 'max_depth': 3, 'n_estim...           0.825000   \n",
       "2   {'criterion': 'gini', 'max_depth': 3, 'n_estim...           0.834375   \n",
       "3   {'criterion': 'gini', 'max_depth': 5, 'n_estim...           0.856250   \n",
       "4   {'criterion': 'gini', 'max_depth': 5, 'n_estim...           0.853125   \n",
       "5   {'criterion': 'gini', 'max_depth': 5, 'n_estim...           0.865625   \n",
       "6   {'criterion': 'entropy', 'max_depth': 3, 'n_es...           0.790625   \n",
       "7   {'criterion': 'entropy', 'max_depth': 3, 'n_es...           0.818750   \n",
       "8   {'criterion': 'entropy', 'max_depth': 3, 'n_es...           0.812500   \n",
       "9   {'criterion': 'entropy', 'max_depth': 5, 'n_es...           0.837500   \n",
       "10  {'criterion': 'entropy', 'max_depth': 5, 'n_es...           0.853125   \n",
       "11  {'criterion': 'entropy', 'max_depth': 5, 'n_es...           0.856250   \n",
       "\n",
       "    split1_test_score  split2_test_score  split3_test_score  \\\n",
       "0            0.784375           0.809375           0.809375   \n",
       "1            0.765625           0.803125           0.800000   \n",
       "2            0.775000           0.806250           0.787500   \n",
       "3            0.821875           0.846875           0.862500   \n",
       "4            0.843750           0.850000           0.887500   \n",
       "5            0.812500           0.850000           0.871875   \n",
       "6            0.800000           0.721875           0.790625   \n",
       "7            0.740625           0.787500           0.803125   \n",
       "8            0.771875           0.800000           0.818750   \n",
       "9            0.840625           0.837500           0.868750   \n",
       "10           0.821875           0.834375           0.878125   \n",
       "11           0.825000           0.825000           0.878125   \n",
       "\n",
       "    split4_test_score  mean_test_score  std_test_score  rank_test_score  \n",
       "0            0.803125         0.805000        0.011456                7  \n",
       "1            0.790625         0.796875        0.019264                9  \n",
       "2            0.793750         0.799375        0.020194                8  \n",
       "3            0.862500         0.850000        0.015181                3  \n",
       "4            0.868750         0.860625        0.015762                1  \n",
       "5            0.859375         0.851875        0.020972                2  \n",
       "6            0.750000         0.770625        0.029883               12  \n",
       "7            0.803125         0.790625        0.026882               11  \n",
       "8            0.765625         0.793750        0.021378               10  \n",
       "9            0.859375         0.848750        0.012900                4  \n",
       "10           0.853125         0.848125        0.019121                6  \n",
       "11           0.859375         0.848750        0.020785                5  "
      ]
     },
     "execution_count": 7,
     "metadata": {},
     "output_type": "execute_result"
    }
   ],
   "source": [
    "# using GRID SEARCH \n",
    "\n",
    "from sklearn.ensemble import RandomForestClassifier \n",
    "from sklearn.model_selection import GridSearchCV\n",
    "\n",
    "model=RandomForestClassifier()\n",
    "\n",
    "clf = GridSearchCV(model, {\n",
    "    'n_estimators':[100,200,300],\n",
    "    'criterion':['gini','entropy'],\n",
    "    'max_depth':[3,5]\n",
    "}, cv=5, return_train_score=False)\n",
    "\n",
    "clf.fit(X_train, y_train)\n",
    "grid_search_results = pd.DataFrame(clf.cv_results_)\n",
    "grid_search_results"
   ]
  },
  {
   "cell_type": "markdown",
   "id": "44e314c2",
   "metadata": {},
   "source": [
    "#### Get the best score and optimal values for hyperparameters."
   ]
  },
  {
   "cell_type": "code",
   "execution_count": 8,
   "id": "491b08a1",
   "metadata": {},
   "outputs": [
    {
     "data": {
      "text/plain": [
       "{'criterion': 'gini', 'max_depth': 5, 'n_estimators': 200}"
      ]
     },
     "execution_count": 8,
     "metadata": {},
     "output_type": "execute_result"
    }
   ],
   "source": [
    "clf.best_params_"
   ]
  },
  {
   "cell_type": "code",
   "execution_count": 9,
   "id": "f36eb52a",
   "metadata": {},
   "outputs": [
    {
     "data": {
      "text/plain": [
       "0.8606250000000001"
      ]
     },
     "execution_count": 9,
     "metadata": {},
     "output_type": "execute_result"
    }
   ],
   "source": [
    "clf.best_score_"
   ]
  },
  {
   "cell_type": "markdown",
   "id": "bc3740c7",
   "metadata": {},
   "source": [
    "#### Perform hyperparameter tuning using random search. Increase number of iterations if needed. Do not forget about 5-fold validation."
   ]
  },
  {
   "cell_type": "code",
   "execution_count": 11,
   "id": "b22fd3d8",
   "metadata": {},
   "outputs": [
    {
     "name": "stderr",
     "output_type": "stream",
     "text": [
      "C:\\ProgramData\\Anaconda3\\lib\\site-packages\\sklearn\\model_selection\\_search.py:285: UserWarning: The total space of parameters 12 is smaller than n_iter=500. Running 12 iterations. For exhaustive searches, use GridSearchCV.\n",
      "  warnings.warn(\n"
     ]
    },
    {
     "name": "stdout",
     "output_type": "stream",
     "text": [
      "Best Score: 0.8571666666666667\n",
      "Best Hyperparameters: {'n_estimators': 200, 'max_depth': 5, 'criterion': 'gini'}\n"
     ]
    }
   ],
   "source": [
    "from sklearn.model_selection import RepeatedStratifiedKFold\n",
    "from sklearn.model_selection import RandomizedSearchCV\n",
    "cv = RepeatedStratifiedKFold(n_splits=10, n_repeats=3, random_state=1)\n",
    "\n",
    "space = dict()\n",
    "space['n_estimators'] = [100, 200, 300] \n",
    "space['criterion'] = ['gini', 'entropy']\n",
    "space['max_depth'] = [3, 5]\n",
    "\n",
    "search = RandomizedSearchCV(model, space, n_iter=500, scoring='accuracy', n_jobs=-1, cv=cv, random_state=1)\n",
    "\n",
    "result = search.fit(X, y)\n",
    "# summarize result\n",
    "print('Best Score: %s' % result.best_score_)\n",
    "print('Best Hyperparameters: %s' % result.best_params_)"
   ]
  },
  {
   "cell_type": "markdown",
   "id": "d97565fc",
   "metadata": {},
   "source": [
    "#### Create a pipeline and add standard scaling and dimensionality reduction. You can use StandardScaler and PCA. Perform tuning by random search. Now you have to provide values for hyperparameters of different components of your pipeline. Find out how you can achieve that. For PCA, one hyperparameter to tune would be number of components. Try to isolate and check the effect of scaling and dimensionality reduction on the model."
   ]
  },
  {
   "cell_type": "code",
   "execution_count": 12,
   "id": "2657943e",
   "metadata": {},
   "outputs": [],
   "source": [
    "from sklearn.datasets import load_iris\n",
    "from sklearn.model_selection import train_test_split\n",
    "from sklearn.preprocessing import StandardScaler\n",
    "from sklearn.decomposition import PCA\n",
    "from sklearn.pipeline import Pipeline\n",
    "from sklearn.linear_model import LogisticRegression\n",
    "from sklearn.tree import DecisionTreeClassifier\n",
    "from sklearn.ensemble import RandomForestClassifier"
   ]
  },
  {
   "cell_type": "code",
   "execution_count": 13,
   "id": "a65d5555",
   "metadata": {},
   "outputs": [],
   "source": [
    "pipeline_lr=Pipeline([('scalar1',StandardScaler()),\n",
    "                     ('pca1',PCA(n_components=2)),\n",
    "                     ('lr_classifier',LogisticRegression(random_state=0))])\n"
   ]
  },
  {
   "cell_type": "code",
   "execution_count": 14,
   "id": "0cb4c3b2",
   "metadata": {},
   "outputs": [],
   "source": [
    "pipeline_dt=Pipeline([('scalar2',StandardScaler()),\n",
    "                     ('pca2',PCA(n_components=2)),\n",
    "                     ('dt_classifier',DecisionTreeClassifier())])"
   ]
  },
  {
   "cell_type": "code",
   "execution_count": 15,
   "id": "b15f72d3",
   "metadata": {},
   "outputs": [],
   "source": [
    "pipeline_randomforest=Pipeline([('scalar3',StandardScaler()),\n",
    "                     ('pca3',PCA(n_components=2)),\n",
    "                     ('rf_classifier',RandomForestClassifier())])"
   ]
  },
  {
   "cell_type": "code",
   "execution_count": 16,
   "id": "71ad36a8",
   "metadata": {},
   "outputs": [],
   "source": [
    "## LEts make the list of pipelines\n",
    "pipelines = [pipeline_lr, pipeline_dt, pipeline_randomforest]"
   ]
  },
  {
   "cell_type": "code",
   "execution_count": 17,
   "id": "b691fbfe",
   "metadata": {},
   "outputs": [],
   "source": [
    "best_accuracy=0.0\n",
    "best_classifier=0\n",
    "best_pipeline=\"\""
   ]
  },
  {
   "cell_type": "code",
   "execution_count": 18,
   "id": "d4e8829a",
   "metadata": {},
   "outputs": [],
   "source": [
    "# Dictionary of pipelines and classifier types for ease of reference\n",
    "pipe_dict = {0: 'Logistic Regression', 1: 'Decision Tree', 2: 'RandomForest'}"
   ]
  },
  {
   "cell_type": "code",
   "execution_count": 19,
   "id": "98dbb96d",
   "metadata": {},
   "outputs": [],
   "source": [
    "# Fit the pipelines\n",
    "for pipe in pipelines:\n",
    "\tpipe.fit(X_train, y_train)"
   ]
  },
  {
   "cell_type": "code",
   "execution_count": 20,
   "id": "0d22eddc",
   "metadata": {},
   "outputs": [
    {
     "name": "stdout",
     "output_type": "stream",
     "text": [
      "Logistic Regression Test Accuracy: 0.345\n",
      "Decision Tree Test Accuracy: 0.28\n",
      "RandomForest Test Accuracy: 0.2625\n"
     ]
    }
   ],
   "source": [
    "for i,model in enumerate(pipelines):\n",
    "    print(\"{} Test Accuracy: {}\".format(pipe_dict[i],model.score(X_test,y_test)))"
   ]
  },
  {
   "cell_type": "code",
   "execution_count": 21,
   "id": "7b1e63db",
   "metadata": {},
   "outputs": [
    {
     "name": "stdout",
     "output_type": "stream",
     "text": [
      "Classifier with best accuracy:Logistic Regression\n"
     ]
    }
   ],
   "source": [
    "for i,model in enumerate(pipelines):\n",
    "    if model.score(X_test,y_test)>best_accuracy:\n",
    "        best_accuracy=model.score(X_test,y_test)\n",
    "        best_pipeline=model\n",
    "        best_classifier=i\n",
    "print('Classifier with best accuracy:{}'.format(pipe_dict[best_classifier]))"
   ]
  },
  {
   "cell_type": "code",
   "execution_count": 22,
   "id": "156845d5",
   "metadata": {},
   "outputs": [],
   "source": [
    "from sklearn.model_selection import GridSearchCV"
   ]
  },
  {
   "cell_type": "code",
   "execution_count": 25,
   "id": "0029c3e4",
   "metadata": {},
   "outputs": [
    {
     "name": "stderr",
     "output_type": "stream",
     "text": [
      "C:\\ProgramData\\Anaconda3\\lib\\site-packages\\sklearn\\model_selection\\_search.py:922: UserWarning: One or more of the test scores are non-finite: [0.5525        nan 0.548125      nan 0.556875      nan 0.555         nan\n",
      " 0.555625      nan 0.5525        nan 0.55125       nan 0.551875      nan\n",
      " 0.551875      nan 0.55125       nan 0.95     0.53875  0.545625 0.75375\n",
      " 0.951875 0.539375 0.545    0.781875 0.95375  0.539375 0.54625  0.80125\n",
      " 0.951875 0.539375 0.545625 0.805    0.955    0.539375 0.545625 0.805\n",
      " 0.955    0.539375 0.545    0.806875 0.9525   0.53875  0.545625 0.81375\n",
      " 0.9525   0.539375 0.544375 0.810625 0.95125  0.539375 0.545    0.809375\n",
      " 0.950625 0.539375 0.546875 0.803125 0.801875 0.800625 0.801875 0.8475\n",
      " 0.85125  0.854375]\n",
      "  warnings.warn(\n"
     ]
    },
    {
     "name": "stdout",
     "output_type": "stream",
     "text": [
      "Pipeline(steps=[('classifier',\n",
      "                 LogisticRegression(C=59.94842503189409, solver='newton-cg'))])\n",
      "The mean accuracy of the model is: 0.965\n"
     ]
    },
    {
     "name": "stderr",
     "output_type": "stream",
     "text": [
      "C:\\ProgramData\\Anaconda3\\lib\\site-packages\\sklearn\\utils\\optimize.py:202: ConvergenceWarning: newton-cg failed to converge. Increase the number of iterations.\n",
      "  warnings.warn(\"newton-cg failed to converge. Increase the \"\n"
     ]
    }
   ],
   "source": [
    "# Create a pipeline\n",
    "pipe = Pipeline([(\"classifier\", RandomForestClassifier())])\n",
    "# Create dictionary with candidate learning algorithms and their hyperparameters\n",
    "grid_param = [\n",
    "                {\"classifier\": [LogisticRegression()],\n",
    "                 \"classifier__penalty\": ['l2','l1'],\n",
    "                 \"classifier__C\": np.logspace(0, 4, 10)\n",
    "                 },\n",
    "                {\"classifier\": [LogisticRegression()],\n",
    "                 \"classifier__penalty\": ['l2'],\n",
    "                 \"classifier__C\": np.logspace(0, 4, 10),\n",
    "                 \"classifier__solver\":['newton-cg','saga','sag','liblinear'] ##This solvers don't allow L1 penalty\n",
    "                 },\n",
    "                {\"classifier\": [RandomForestClassifier()],\n",
    "                 \"classifier__n_estimators\": [100, 200, 300],\n",
    "                 \"classifier__max_depth\":[3, 5]}]\n",
    "# create a gridsearch of the pipeline, the fit the best model\n",
    "gridsearch = GridSearchCV(pipe, grid_param, cv=5, verbose=0,n_jobs=-1) # Fit grid search\n",
    "best_model = gridsearch.fit(X_train,y_train)\n",
    "\n",
    "print(best_model.best_estimator_)\n",
    "print(\"The mean accuracy of the model is:\",best_model.score(X_test,y_test))"
   ]
  },
  {
   "cell_type": "code",
   "execution_count": 26,
   "id": "54e0cafe",
   "metadata": {},
   "outputs": [],
   "source": [
    "from sklearn.pipeline import make_pipeline"
   ]
  },
  {
   "cell_type": "code",
   "execution_count": 30,
   "id": "7465e793",
   "metadata": {},
   "outputs": [],
   "source": [
    "# Create a pipeline\n",
    "pipe = make_pipeline((RandomForestClassifier()))\n",
    "# Create dictionary with candidate learning algorithms and their hyperparameters\n",
    "grid_param = [\n",
    "                {\"randomforestclassifier\": [RandomForestClassifier()],\n",
    "                 \"randomforestclassifier__n_estimators\": [100, 200, 300],\n",
    "                 \"randomforestclassifier__max_depth\":[3, 5]}]\n",
    "# create a gridsearch of the pipeline, the fit the best model\n",
    "gridsearch = GridSearchCV(pipe, grid_param, cv=5, verbose=0,n_jobs=-1) # Fit grid search\n",
    "best_model = gridsearch.fit(X_train,y_train)"
   ]
  },
  {
   "cell_type": "code",
   "execution_count": 31,
   "id": "f0016bdc",
   "metadata": {},
   "outputs": [
    {
     "data": {
      "text/plain": [
       "0.8675"
      ]
     },
     "execution_count": 31,
     "metadata": {},
     "output_type": "execute_result"
    }
   ],
   "source": [
    "best_model.score(X_test,y_test)"
   ]
  }
 ],
 "metadata": {
  "kernelspec": {
   "display_name": "Python 3 (ipykernel)",
   "language": "python",
   "name": "python3"
  },
  "language_info": {
   "codemirror_mode": {
    "name": "ipython",
    "version": 3
   },
   "file_extension": ".py",
   "mimetype": "text/x-python",
   "name": "python",
   "nbconvert_exporter": "python",
   "pygments_lexer": "ipython3",
   "version": "3.9.7"
  }
 },
 "nbformat": 4,
 "nbformat_minor": 5
}
